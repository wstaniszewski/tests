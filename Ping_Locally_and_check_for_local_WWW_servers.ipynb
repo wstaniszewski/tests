{
 "cells": [
  {
   "cell_type": "code",
   "execution_count": 11,
   "metadata": {},
   "outputs": [
    {
     "name": "stdout",
     "output_type": "stream",
     "text": [
      "Jest Windows['Pinging 192.168.0.124 with 32 bytes of data:', 'Reply from 192.168.0.124: bytes=32 time=5ms TTL=128', 'Ping statistics for 192.168.0.124:', '    Packets: Sent = 1, Received = 1, Lost = 0 (0% loss),']\n",
      "Jest Windows['Pinging 192.168.0.128 with 32 bytes of data:', 'Reply from 192.168.0.185: Destination host unreachable.', 'Ping statistics for 192.168.0.128:', '    Packets: Sent = 1, Received = 1, Lost = 0 (0% loss),']\n",
      "Jest Windows['Pinging 192.168.0.185 with 32 bytes of data:', 'Reply from 192.168.0.185: bytes=32 time<1ms TTL=128', 'Ping statistics for 192.168.0.185:', '    Packets: Sent = 1, Received = 1, Lost = 0 (0% loss),']\n"
     ]
    }
   ],
   "source": [
    "import os\n",
    "import webbrowser\n",
    "\n",
    "for ip in range(1,255): \n",
    "    host = \"192.168.0.\"+str(ip) \n",
    "    response128 = !ping -n 1 {host} |findstr \"1\"\n",
    "    response255 = !ping -n 1 {host} |findstr \"255\"\n",
    "    if \"128\"  in (str(response128)): \n",
    "        print(\"Jest Windows\"+str (response128))\n",
    "        webbrowser.open(\"http://\"+str(host)+\"/zarya/\")\n",
    "\n",
    "    if \"255\"  in (str(response255)): \n",
    "        print(\"Jest Raspberry\"+str (response255))\n",
    "        webbrowser.open(\"http://\"+str(host)+\"/values\")\n"
   ]
  },
  {
   "cell_type": "code",
   "execution_count": 13,
   "metadata": {},
   "outputs": [
    {
     "name": "stdout",
     "output_type": "stream",
     "text": [
      "\n",
      "Windows IP Configuration\n",
      "\n",
      "   Host Name . . . . . . . . . . . . : WojtekYoga\n",
      "   Primary Dns Suffix  . . . . . . . : \n",
      "   Node Type . . . . . . . . . . . . : Hybrid\n",
      "   IP Routing Enabled. . . . . . . . : No\n",
      "   WINS Proxy Enabled. . . . . . . . : No\n",
      "\n",
      "Wireless LAN adapter Po�Ączenie lokalne* 3:\n",
      "\n",
      "   Media State . . . . . . . . . . . : Media disconnected\n",
      "   Connection-specific DNS Suffix  . : \n",
      "   Description . . . . . . . . . . . : Microsoft Wi-Fi Direct Virtual Adapter #3\n",
      "   Physical Address. . . . . . . . . : D8-F2-CA-18-FF-2A\n",
      "   DHCP Enabled. . . . . . . . . . . : Yes\n",
      "   Autoconfiguration Enabled . . . . : Yes\n",
      "\n",
      "Wireless LAN adapter Po�Ączenie lokalne* 4:\n",
      "\n",
      "   Media State . . . . . . . . . . . : Media disconnected\n",
      "   Connection-specific DNS Suffix  . : \n",
      "   Description . . . . . . . . . . . : Microsoft Wi-Fi Direct Virtual Adapter #4\n",
      "   Physical Address. . . . . . . . . : DA-F2-CA-18-FF-29\n",
      "   DHCP Enabled. . . . . . . . . . . : No\n",
      "   Autoconfiguration Enabled . . . . : Yes\n",
      "\n",
      "Wireless LAN adapter Wi-Fi:\n",
      "\n",
      "   Connection-specific DNS Suffix  . : \n",
      "   Description . . . . . . . . . . . : Intel(R) Dual Band Wireless-AC 3165\n",
      "   Physical Address. . . . . . . . . : D8-F2-CA-18-FF-29\n",
      "   DHCP Enabled. . . . . . . . . . . : Yes\n",
      "   Autoconfiguration Enabled . . . . : Yes\n",
      "   Link-local IPv6 Address . . . . . : fe80::d8de:d083:6489:93c0%4(Preferred) \n",
      "   IPv4 Address. . . . . . . . . . . : 192.168.0.185(Preferred) \n",
      "   Subnet Mask . . . . . . . . . . . : 255.255.255.0\n",
      "   Lease Obtained. . . . . . . . . . : niedziela, 27 czerwca 2021 13:20:13\n",
      "   Lease Expires . . . . . . . . . . : poniedzia�ek, 28 czerwca 2021 23:06:59\n",
      "   Default Gateway . . . . . . . . . : 192.168.0.1\n",
      "   DHCP Server . . . . . . . . . . . : 192.168.0.1\n",
      "   DHCPv6 IAID . . . . . . . . . . . : 81326794\n",
      "   DHCPv6 Client DUID. . . . . . . . : 00-01-00-01-25-5E-1D-C0-D8-F2-CA-18-FF-29\n",
      "   DNS Servers . . . . . . . . . . . : 8.8.8.8\n",
      "   NetBIOS over Tcpip. . . . . . . . : Enabled\n",
      "\n",
      "Ethernet adapter Po�Ączenie sieciowe Bluetooth:\n",
      "\n",
      "   Media State . . . . . . . . . . . : Media disconnected\n",
      "   Connection-specific DNS Suffix  . : \n",
      "   Description . . . . . . . . . . . : Bluetooth Device (Personal Area Network)\n",
      "   Physical Address. . . . . . . . . : D8-F2-CA-18-FF-2D\n",
      "   DHCP Enabled. . . . . . . . . . . : Yes\n",
      "   Autoconfiguration Enabled . . . . : Yes\n"
     ]
    }
   ],
   "source": [
    "!ipconfig -all"
   ]
  },
  {
   "cell_type": "code",
   "execution_count": 14,
   "metadata": {},
   "outputs": [
    {
     "name": "stdout",
     "output_type": "stream",
     "text": [
      "\n",
      "Pinging onet.pl [75.2.92.173] with 32 bytes of data:\n",
      "Reply from 75.2.92.173: bytes=32 time=5ms TTL=120\n",
      "Reply from 75.2.92.173: bytes=32 time=4ms TTL=120\n",
      "Reply from 75.2.92.173: bytes=32 time=3ms TTL=120\n",
      "Reply from 75.2.92.173: bytes=32 time=3ms TTL=120\n",
      "\n",
      "Ping statistics for 75.2.92.173:\n",
      "    Packets: Sent = 4, Received = 4, Lost = 0 (0% loss),\n",
      "Approximate round trip times in milli-seconds:\n",
      "    Minimum = 3ms, Maximum = 5ms, Average = 3ms\n"
     ]
    }
   ],
   "source": [
    "!ping onet.pl"
   ]
  },
  {
   "cell_type": "code",
   "execution_count": null,
   "metadata": {},
   "outputs": [],
   "source": []
  }
 ],
 "metadata": {
  "kernelspec": {
   "display_name": "Python 3",
   "language": "python",
   "name": "python3"
  },
  "language_info": {
   "codemirror_mode": {
    "name": "ipython",
    "version": 3
   },
   "file_extension": ".py",
   "mimetype": "text/x-python",
   "name": "python",
   "nbconvert_exporter": "python",
   "pygments_lexer": "ipython3",
   "version": "3.8.8"
  }
 },
 "nbformat": 4,
 "nbformat_minor": 4
}
