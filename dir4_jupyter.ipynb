{
 "cells": [
  {
   "cell_type": "code",
   "execution_count": 35,
   "metadata": {},
   "outputs": [
    {
     "name": "stdout",
     "output_type": "stream",
     "text": [
      "C:\\Users\\wstan\\Dysk_Google\\Praca2\\Oferty\n",
      "Wprowadź nazwę folderu klienta:\n",
      "C:\\Users\\wstan\\Dysk_Google\\Praca2\\Oferty\\2020-08-13w_wycena.xlsx\n",
      "Plik wyceny już istnieje!, Otwieram istniejący bez kopiowania nowego\n"
     ]
    },
    {
     "data": {
      "text/plain": [
       "True"
      ]
     },
     "execution_count": 35,
     "metadata": {},
     "output_type": "execute_result"
    }
   ],
   "source": [
    "import os\n",
    "import time\n",
    "import datetime\n",
    "from shutil import *\n",
    "import subprocess  \n",
    "import webbrowser\n",
    "\n",
    "print(os.getcwd())\n",
    "print('Wprowadź nazwę folderu klienta:')\n",
    "#x = input()   #zahaszowane zeby nie pytało o folder klienta\n",
    "#oferty = (\"oferty\")\n",
    "#print(x)\n",
    "#if os.path.exists(x):\n",
    "#    print(\"Folder Klienta już istnieje\")\n",
    "#else:\n",
    "#    os.mkdir(x)\n",
    "#    if os.path.exists(x):\n",
    " #       print(\"Folder Klienta nie istniał - został utworzony\")\n",
    "#os.chdir(x)\n",
    "now = datetime.datetime.now()\n",
    "# print (now.year, now.month, now.day, now.hour, now.minute, now.second)\n",
    "# 2015 5 6 8 53 40\n",
    "#generowanie nazw folderu i pliku wyceny  z daty\n",
    "folder_rok_mie = datetime.datetime.now().strftime(\"%Y-%m\")\n",
    "nazwa_pliku_wyc = datetime.datetime.now().strftime(\"%Y-%m-%d\")\n",
    "#sprawdza czy folder rok miesiac jest i jak nie to tworzy nastepny\n",
    "#if os.path.exists(folder_rok_mie):\n",
    "#    print(\" Folder miesiac już istnieje!\")\n",
    "#else:\n",
    "#    os.mkdir(folder_rok_mie)\n",
    "#    if os.path.exists(folder_rok_mie):\n",
    "#        print(\" Folder miesięc nie istniał - został utworzony\")\n",
    "#if os.path.exists(folder_rok_mie):   #moze przesada\n",
    "#    os.chdir(folder_rok_mie)\n",
    "#    if os.path.exists(oferty):\n",
    "#        print(\" Folder oferty już istnieje!\")\n",
    "#    else:\n",
    "#        os.mkdir(oferty)\n",
    "#    if os.path.exists(oferty):\n",
    "#       print(\" Folder oferty nie istniał - został utworzony\")\n",
    "   \n",
    "    \n",
    "    #print(os.getcwd())\n",
    "plik2 = \"/Users/wstan/Dysk_Google/Praca/Szablony/Szablon wycena v8m3.xlsx\"  #zrodlo pliku do skopoiowania\n",
    "szablon_wyc= nazwa_pliku_wyc+\"w_wycena.xlsx\"  #generowanie nazwy pliku docelowego\n",
    "#katalog = os.getcwd()\n",
    "katalog= 'C:\\\\Users\\\\wstan\\\\Dysk_Google\\\\Praca2\\\\Oferty'\n",
    "sciezka = katalog + '\\\\'         #generownie sciezki pliku docelowego\n",
    "full = sciezka +szablon_wyc #generownie sciezka + nazwa  pliku docelowego\n",
    "print(full)\n",
    "if os.path.exists(full):\n",
    "    print(\"Plik wyceny już istnieje!, Otwieram istniejący bez kopiowania nowego\")\n",
    "else:\n",
    "    print(\"Plik wyceny nie istnieje!  Kopiowanie nowego\")\n",
    "    copy2(plik2, szablon_wyc)\n",
    "    if os.path.exists(full):\n",
    "         print(\"Plik wyceny został skopiowany\")\n",
    "#otwieranie plików\n",
    "subprocess.Popen(r'\"C:\\Program Files\\Microsoft Office\\Office14\\EXCEL.EXE\" \"C:\\Users\\wstan\\Dysk_Google\\Praca\\Cenniki\\Starsze\\2018\\NIE_Price_Lists_ENDUSER_JUL17v8.xlsx\" /X ') \n",
    "zmienna = \"start excel.exe\" + \" \" + full\n",
    "#print (zmienna)\n",
    "os.system(zmienna)\n",
    "#os.chdir(sciezka)\n",
    "\n",
    "#path = os.path.realpath(path)\n",
    "os.startfile(katalog)\n",
    "webbrowser.open('https://drive.google.com/drive/folders/1WOYpSoh5lGiHreu7UFR9m4E-pXl1xj4I')  \n",
    "webbrowser.open('http://localhost/pa5b/tbl_select.php?db=nikon&table=klienci') \n",
    "webbrowser.open('https://precopticpl.pipedrive.com/pipeline')  \n",
    "\n"
   ]
  },
  {
   "cell_type": "code",
   "execution_count": 23,
   "metadata": {},
   "outputs": [
    {
     "data": {
      "text/plain": [
       "'C:\\\\Users\\\\wstan\\\\Dysk_Google\\\\Praca2\\\\Oferty'"
      ]
     },
     "execution_count": 23,
     "metadata": {},
     "output_type": "execute_result"
    }
   ],
   "source": [
    "os.getcwd()"
   ]
  },
  {
   "cell_type": "code",
   "execution_count": 27,
   "metadata": {},
   "outputs": [
    {
     "data": {
      "text/plain": [
       "'C:\\\\Users\\\\wstan\\\\Dysk_Google\\\\Praca2\\\\Oferty'"
      ]
     },
     "execution_count": 27,
     "metadata": {},
     "output_type": "execute_result"
    }
   ],
   "source": [
    "os.getcwd()"
   ]
  },
  {
   "cell_type": "code",
   "execution_count": 29,
   "metadata": {},
   "outputs": [
    {
     "data": {
      "text/plain": [
       "True"
      ]
     },
     "execution_count": 29,
     "metadata": {},
     "output_type": "execute_result"
    }
   ],
   "source": [
    "import webbrowser, os\n",
    "path=\"C:/Users\"\n",
    "webbrowser.open(os.path.realpath(path))"
   ]
  },
  {
   "cell_type": "raw",
   "metadata": {},
   "source": []
  },
  {
   "cell_type": "markdown",
   "metadata": {},
   "source": [
    "jak otowyrzyc atalog i storne"
   ]
  },
  {
   "cell_type": "code",
   "execution_count": 34,
   "metadata": {},
   "outputs": [],
   "source": [
    "path = \"C:/Users\"\n",
    "path = os.path.realpath(path)\n",
    "os.startfile(path)"
   ]
  },
  {
   "cell_type": "code",
   "execution_count": 33,
   "metadata": {},
   "outputs": [
    {
     "data": {
      "text/plain": [
       "True"
      ]
     },
     "execution_count": 33,
     "metadata": {},
     "output_type": "execute_result"
    }
   ],
   "source": [
    "import webbrowser\n",
    "\n",
    "webbrowser.open('http://example.com')  # Go to example.com"
   ]
  },
  {
   "cell_type": "code",
   "execution_count": null,
   "metadata": {},
   "outputs": [],
   "source": []
  }
 ],
 "metadata": {
  "kernelspec": {
   "display_name": "Python 3",
   "language": "python",
   "name": "python3"
  },
  "language_info": {
   "codemirror_mode": {
    "name": "ipython",
    "version": 3
   },
   "file_extension": ".py",
   "mimetype": "text/x-python",
   "name": "python",
   "nbconvert_exporter": "python",
   "pygments_lexer": "ipython3",
   "version": "3.8.5"
  }
 },
 "nbformat": 4,
 "nbformat_minor": 4
}
