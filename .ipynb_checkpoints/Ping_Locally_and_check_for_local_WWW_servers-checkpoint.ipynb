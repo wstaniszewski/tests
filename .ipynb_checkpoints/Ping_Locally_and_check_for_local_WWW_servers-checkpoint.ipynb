{
 "cells": [
  {
   "cell_type": "code",
   "execution_count": null,
   "metadata": {},
   "outputs": [],
   "source": [
    "import os\n",
    "import webbrowser\n",
    "\n",
    "for ip in range(1,255): \n",
    "    host = \"192.168.0.\"+str(ip) \n",
    "    response128 = !ping -n 1 {host} |findstr \"128\"\n",
    "    response255 = !ping -n 1 {host} |findstr \"255\"\n",
    "    if \"128\"  in (str(response128)): \n",
    "        print(\"Jest Windows\"+str (response128))\n",
    "        webbrowser.open(\"http://\"+str(host)+\"/zarya/\")\n",
    "\n",
    "    if \"255\"  in (str(response255)): \n",
    "        print(\"Jest Raspberry\"+str (response255))\n",
    "        webbrowser.open(\"http://\"+str(host)+\"/values\")\n"
   ]
  },
  {
   "cell_type": "code",
   "execution_count": null,
   "metadata": {},
   "outputs": [],
   "source": []
  }
 ],
 "metadata": {
  "kernelspec": {
   "display_name": "Python 3",
   "language": "python",
   "name": "python3"
  },
  "language_info": {
   "codemirror_mode": {
    "name": "ipython",
    "version": 3
   },
   "file_extension": ".py",
   "mimetype": "text/x-python",
   "name": "python",
   "nbconvert_exporter": "python",
   "pygments_lexer": "ipython3",
   "version": "3.8.8"
  }
 },
 "nbformat": 4,
 "nbformat_minor": 4
}
