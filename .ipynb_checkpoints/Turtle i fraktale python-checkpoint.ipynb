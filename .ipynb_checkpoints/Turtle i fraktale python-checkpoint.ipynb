{
 "cells": [
  {
   "cell_type": "code",
   "execution_count": 4,
   "metadata": {},
   "outputs": [
    {
     "ename": "Terminator",
     "evalue": "",
     "output_type": "error",
     "traceback": [
      "\u001b[1;31m---------------------------------------------------------------------------\u001b[0m",
      "\u001b[1;31mTerminator\u001b[0m                                Traceback (most recent call last)",
      "\u001b[1;32m<ipython-input-4-7cfcae29d4a8>\u001b[0m in \u001b[0;36m<module>\u001b[1;34m\u001b[0m\n\u001b[0;32m     14\u001b[0m     \u001b[0mright\u001b[0m\u001b[1;33m(\u001b[0m\u001b[0ma\u001b[0m\u001b[1;33m/\u001b[0m\u001b[1;36m10\u001b[0m\u001b[1;33m)\u001b[0m\u001b[1;33m\u001b[0m\u001b[1;33m\u001b[0m\u001b[0m\n\u001b[0;32m     15\u001b[0m     \u001b[0mforward\u001b[0m\u001b[1;33m(\u001b[0m\u001b[1;36m10\u001b[0m\u001b[1;33m/\u001b[0m\u001b[0ma\u001b[0m\u001b[1;33m)\u001b[0m\u001b[1;33m\u001b[0m\u001b[1;33m\u001b[0m\u001b[0m\n\u001b[1;32m---> 16\u001b[1;33m     \u001b[1;32mif\u001b[0m \u001b[0mabs\u001b[0m\u001b[1;33m(\u001b[0m\u001b[0mpos\u001b[0m\u001b[1;33m(\u001b[0m\u001b[1;33m)\u001b[0m\u001b[1;33m)\u001b[0m \u001b[1;33m<\u001b[0m \u001b[1;36m1\u001b[0m\u001b[1;33m:\u001b[0m\u001b[1;33m\u001b[0m\u001b[1;33m\u001b[0m\u001b[0m\n\u001b[0m\u001b[0;32m     17\u001b[0m         \u001b[1;32mbreak\u001b[0m\u001b[1;33m\u001b[0m\u001b[1;33m\u001b[0m\u001b[0m\n\u001b[0;32m     18\u001b[0m \u001b[0mend_fill\u001b[0m\u001b[1;33m(\u001b[0m\u001b[1;33m)\u001b[0m\u001b[1;33m\u001b[0m\u001b[1;33m\u001b[0m\u001b[0m\n",
      "\u001b[1;32m~\\anaconda3\\lib\\turtle.py\u001b[0m in \u001b[0;36mpos\u001b[1;34m()\u001b[0m\n",
      "\u001b[1;31mTerminator\u001b[0m: "
     ]
    }
   ],
   "source": [
    "import turtle\n",
    "wn=turtle.Screen()\n",
    "wn.bgcolor(\"black\")\n",
    "from turtle import *\n",
    "color('blue', 'red')\n",
    "begin_fill()\n",
    "while True:\n",
    "    turtle.speed('fastest')\n",
    "    a = 1\n",
    "    while a < 4:\n",
    "        a += 1\n",
    "        left(68)\n",
    "        forward(500/a)\n",
    "    right(a/10)\n",
    "    forward(10/a)\n",
    "    if abs(pos()) < 1:\n",
    "        break\n",
    "end_fill()\n",
    "done()\n"
   ]
  },
  {
   "cell_type": "code",
   "execution_count": 2,
   "metadata": {},
   "outputs": [],
   "source": [
    "import turtle\n",
    "\n",
    "def tree(branchLen,t):\n",
    "    if branchLen > 5:\n",
    "        t.forward(branchLen)\n",
    "        t.right(20)\n",
    "        tree(branchLen-15,t)\n",
    "        t.left(40)\n",
    "        tree(branchLen-15,t)\n",
    "        t.right(20)\n",
    "        t.backward(branchLen)\n",
    "\n",
    "def main():\n",
    "    t = turtle.Turtle()\n",
    "    myWin = turtle.Screen()\n",
    "    t.left(90)\n",
    "    t.up()\n",
    "    t.backward(100)\n",
    "    t.down()\n",
    "    t.color(\"green\")\n",
    "    tree(75,t)\n",
    "    myWin.exitonclick()\n",
    "\n",
    "main()\n"
   ]
  },
  {
   "cell_type": "code",
   "execution_count": 22,
   "metadata": {},
   "outputs": [],
   "source": [
    "os.chdir (\"C:\\\\Users\\wstan\\Dysk_Google\\Praca2\\Oferty\")"
   ]
  },
  {
   "cell_type": "markdown",
   "metadata": {},
   "source": [
    "<H2>Fraktal Julii</H2>"
   ]
  },
  {
   "cell_type": "code",
   "execution_count": null,
   "metadata": {},
   "outputs": [],
   "source": [
    "# Python code for Julia Fractal \n",
    "from PIL import Image \n",
    "\n",
    "# driver function \n",
    "if __name__ == \"__main__\": \n",
    "\t\n",
    "\t# setting the width, height and zoom \n",
    "\t# of the image to be created \n",
    "\tw, h, zoom = 1920,1080,1\n",
    "\n",
    "\t# creating the new image in RGB mode \n",
    "\tbitmap = Image.new(\"RGB\", (w, h), \"white\") \n",
    "\n",
    "\t# Allocating the storage for the image and \n",
    "\t# loading the pixel data. \n",
    "\tpix = bitmap.load() \n",
    "\t\n",
    "\t# setting up the variables according to \n",
    "\t# the equation to create the fractal \n",
    "\tcX, cY = -0.7, 0.27015\n",
    "\tmoveX, moveY = 0.0, 0.0\n",
    "\tmaxIter = 255\n",
    "\n",
    "\tfor x in range(w): \n",
    "\t\tfor y in range(h): \n",
    "\t\t\tzx = 1.5*(x - w/2)/(0.5*zoom*w) + moveX \n",
    "\t\t\tzy = 1.0*(y - h/2)/(0.5*zoom*h) + moveY \n",
    "\t\t\ti = maxIter \n",
    "\t\t\twhile zx*zx + zy*zy < 4 and i > 1: \n",
    "\t\t\t\ttmp = zx*zx - zy*zy + cX \n",
    "\t\t\t\tzy,zx = 2.0*zx*zy + cY, tmp \n",
    "\t\t\t\ti -= 1\n",
    "\n",
    "\t\t\t# convert byte to RGB (3 bytes), kinda \n",
    "\t\t\t# magic to get nice colors \n",
    "\t\t\tpix[x,y] = (i << 21) + (i << 10) + i*8\n",
    "\n",
    "\t# to display the created fractal \n",
    "\tbitmap.show() \n"
   ]
  },
  {
   "cell_type": "code",
   "execution_count": null,
   "metadata": {},
   "outputs": [],
   "source": []
  }
 ],
 "metadata": {
  "kernelspec": {
   "display_name": "Python 3",
   "language": "python",
   "name": "python3"
  },
  "language_info": {
   "codemirror_mode": {
    "name": "ipython",
    "version": 3
   },
   "file_extension": ".py",
   "mimetype": "text/x-python",
   "name": "python",
   "nbconvert_exporter": "python",
   "pygments_lexer": "ipython3",
   "version": "3.8.8"
  }
 },
 "nbformat": 4,
 "nbformat_minor": 4
}
