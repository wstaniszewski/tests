{
  "nbformat": 4,
  "nbformat_minor": 0,
  "metadata": {
    "colab": {
      "name": "Collab Jupyter Ping Locally and check for local WWW servers",
      "provenance": [],
      "authorship_tag": "ABX9TyPzhKK/zbtyZM8GjQc0HMjk",
      "include_colab_link": true
    },
    "kernelspec": {
      "name": "python3",
      "display_name": "Python 3"
    }
  },
  "cells": [
    {
      "cell_type": "markdown",
      "metadata": {
        "id": "view-in-github",
        "colab_type": "text"
      },
      "source": [
        "<a href=\"https://colab.research.google.com/github/wstaniszewski/tests/blob/main/Collab_Jupyter_Ping_Locally_and_check_for_local_WWW_servers.ipynb\" target=\"_parent\"><img src=\"https://colab.research.google.com/assets/colab-badge.svg\" alt=\"Open In Colab\"/></a>"
      ]
    },
    {
      "cell_type": "markdown",
      "metadata": {
        "id": "bBjaimJWuqmK"
      },
      "source": [
        "## It looks for serwers in local network and then opens  them. You have to run it on loca comp or on Colab connected to local Jupyter-notebook"
      ]
    },
    {
      "cell_type": "code",
      "metadata": {
        "id": "rbufhVFbLyZH",
        "outputId": "6d846c00-6acd-4060-efb6-54b1fdf363d6",
        "colab": {
          "base_uri": "https://localhost:8080/"
        }
      },
      "source": [
        "import os\n",
        "import webbrowser\n",
        "\n",
        "for ip in range(106,120): \n",
        "    host = \"192.168.8.\"+str(ip) \n",
        "    response128 = !ping -n 1 {host} |findstr \"128\"\n",
        "    response255 = !ping -n 1 {host} |findstr \"255\"\n",
        "    if \"128\"  in (str(response128)): \n",
        "        print(\"Jest Windows\"+str (response128))\n",
        "        webbrowser.open(\"http://\"+str(host)+\"/zarya/\")\n",
        "\n",
        "    if \"255\"  in (str(response255)): \n",
        "        print(\"Jest Raspberry\"+str (response255))\n",
        "        webbrowser.open(\"http://\"+str(host)+\"/values\")\n"
      ],
      "execution_count": null,
      "outputs": [
        {
          "output_type": "stream",
          "text": [
            "Jest Raspberry['Reply from 192.168.8.108: bytes=32 time=2ms TTL=255']\n",
            "Jest Windows['Reply from 192.168.8.110: bytes=32 time=1ms TTL=128']\n",
            "Jest Windows['Reply from 192.168.8.111: bytes=32 time=1ms TTL=128']\n"
          ],
          "name": "stdout"
        }
      ]
    }
  ]
}